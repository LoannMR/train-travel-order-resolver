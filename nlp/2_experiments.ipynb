{
 "cells": [
  {
   "cell_type": "markdown",
   "metadata": {},
   "source": [
    "# Data preparations\n",
    "\n",
    "## Clean data"
   ]
  },
  {
   "cell_type": "code",
   "execution_count": 1,
   "metadata": {},
   "outputs": [
    {
     "data": {
      "text/html": [
       "<div>\n",
       "<style scoped>\n",
       "    .dataframe tbody tr th:only-of-type {\n",
       "        vertical-align: middle;\n",
       "    }\n",
       "\n",
       "    .dataframe tbody tr th {\n",
       "        vertical-align: top;\n",
       "    }\n",
       "\n",
       "    .dataframe thead th {\n",
       "        text-align: right;\n",
       "    }\n",
       "</style>\n",
       "<table border=\"1\" class=\"dataframe\">\n",
       "  <thead>\n",
       "    <tr style=\"text-align: right;\">\n",
       "      <th></th>\n",
       "      <th>text</th>\n",
       "      <th>from</th>\n",
       "      <th>to</th>\n",
       "      <th>moment</th>\n",
       "    </tr>\n",
       "  </thead>\n",
       "  <tbody>\n",
       "    <tr>\n",
       "      <th>0</th>\n",
       "      <td>Depuis La Chaize-le-vicomte à La Roche-sur-foron</td>\n",
       "      <td>La Chaize-le-vicomte</td>\n",
       "      <td>La Roche-sur-foron</td>\n",
       "      <td>NaN</td>\n",
       "    </tr>\n",
       "    <tr>\n",
       "      <th>1</th>\n",
       "      <td>Itiniréraire jusqu'a Giromagny depuis Quimper</td>\n",
       "      <td>Quimper</td>\n",
       "      <td>Giromagny</td>\n",
       "      <td>NaN</td>\n",
       "    </tr>\n",
       "    <tr>\n",
       "      <th>2</th>\n",
       "      <td>Comment aller de Boigneville à Longjumeau mardi</td>\n",
       "      <td>Boigneville</td>\n",
       "      <td>Longjumeau</td>\n",
       "      <td>mardi</td>\n",
       "    </tr>\n",
       "    <tr>\n",
       "      <th>3</th>\n",
       "      <td>Je suis actuellement à Villers-sur-mer et j’ai...</td>\n",
       "      <td>Villers-sur-mer</td>\n",
       "      <td>Ferrières-en-bray</td>\n",
       "      <td>NaN</td>\n",
       "    </tr>\n",
       "    <tr>\n",
       "      <th>4</th>\n",
       "      <td>Donne moi l'itinéraire pour aller à Fontenay-l...</td>\n",
       "      <td>Lizy-sur-ourcq</td>\n",
       "      <td>Fontenay-le-fleury</td>\n",
       "      <td>NaN</td>\n",
       "    </tr>\n",
       "    <tr>\n",
       "      <th>...</th>\n",
       "      <td>...</td>\n",
       "      <td>...</td>\n",
       "      <td>...</td>\n",
       "      <td>...</td>\n",
       "    </tr>\n",
       "    <tr>\n",
       "      <th>2858</th>\n",
       "      <td>De Lyon, je souhaite me rendre à Chamonix pour...</td>\n",
       "      <td>Lyon</td>\n",
       "      <td>Chamonix</td>\n",
       "      <td>NaN</td>\n",
       "    </tr>\n",
       "    <tr>\n",
       "      <th>2859</th>\n",
       "      <td>De Lille, je souhaite me rendre à Lillebonne p...</td>\n",
       "      <td>Lille</td>\n",
       "      <td>Lillebonne</td>\n",
       "      <td>NaN</td>\n",
       "    </tr>\n",
       "    <tr>\n",
       "      <th>2860</th>\n",
       "      <td>De Strasbourg, je souhaite voyager en train ve...</td>\n",
       "      <td>Strasbourg</td>\n",
       "      <td>Colmar</td>\n",
       "      <td>NaN</td>\n",
       "    </tr>\n",
       "    <tr>\n",
       "      <th>2861</th>\n",
       "      <td>Pour rejoindre Monaco depuis Marseille en bate...</td>\n",
       "      <td>Marseille</td>\n",
       "      <td>Monaco</td>\n",
       "      <td>NaN</td>\n",
       "    </tr>\n",
       "    <tr>\n",
       "      <th>2862</th>\n",
       "      <td>De Paris, je souhaite me rendre à Londres en t...</td>\n",
       "      <td>Paris</td>\n",
       "      <td>Londres</td>\n",
       "      <td>NaN</td>\n",
       "    </tr>\n",
       "  </tbody>\n",
       "</table>\n",
       "<p>2863 rows × 4 columns</p>\n",
       "</div>"
      ],
      "text/plain": [
       "                                                   text                  from  \\\n",
       "0      Depuis La Chaize-le-vicomte à La Roche-sur-foron  La Chaize-le-vicomte   \n",
       "1         Itiniréraire jusqu'a Giromagny depuis Quimper               Quimper   \n",
       "2       Comment aller de Boigneville à Longjumeau mardi           Boigneville   \n",
       "3     Je suis actuellement à Villers-sur-mer et j’ai...       Villers-sur-mer   \n",
       "4     Donne moi l'itinéraire pour aller à Fontenay-l...        Lizy-sur-ourcq   \n",
       "...                                                 ...                   ...   \n",
       "2858  De Lyon, je souhaite me rendre à Chamonix pour...                  Lyon   \n",
       "2859  De Lille, je souhaite me rendre à Lillebonne p...                 Lille   \n",
       "2860  De Strasbourg, je souhaite voyager en train ve...            Strasbourg   \n",
       "2861  Pour rejoindre Monaco depuis Marseille en bate...             Marseille   \n",
       "2862  De Paris, je souhaite me rendre à Londres en t...                 Paris   \n",
       "\n",
       "                      to moment  \n",
       "0     La Roche-sur-foron    NaN  \n",
       "1              Giromagny    NaN  \n",
       "2             Longjumeau  mardi  \n",
       "3      Ferrières-en-bray    NaN  \n",
       "4     Fontenay-le-fleury    NaN  \n",
       "...                  ...    ...  \n",
       "2858            Chamonix    NaN  \n",
       "2859          Lillebonne    NaN  \n",
       "2860              Colmar    NaN  \n",
       "2861              Monaco    NaN  \n",
       "2862             Londres    NaN  \n",
       "\n",
       "[2863 rows x 4 columns]"
      ]
     },
     "execution_count": 1,
     "metadata": {},
     "output_type": "execute_result"
    }
   ],
   "source": [
    "import pandas as pd\n",
    "\n",
    "df = pd.read_csv('./data/dataset_2.tsv', delimiter='\\t', encoding='utf-8')\n",
    "\n",
    "df"
   ]
  },
  {
   "cell_type": "code",
   "execution_count": 2,
   "metadata": {},
   "outputs": [
    {
     "data": {
      "text/html": [
       "<div>\n",
       "<style scoped>\n",
       "    .dataframe tbody tr th:only-of-type {\n",
       "        vertical-align: middle;\n",
       "    }\n",
       "\n",
       "    .dataframe tbody tr th {\n",
       "        vertical-align: top;\n",
       "    }\n",
       "\n",
       "    .dataframe thead th {\n",
       "        text-align: right;\n",
       "    }\n",
       "</style>\n",
       "<table border=\"1\" class=\"dataframe\">\n",
       "  <thead>\n",
       "    <tr style=\"text-align: right;\">\n",
       "      <th></th>\n",
       "      <th>text</th>\n",
       "      <th>from</th>\n",
       "      <th>to</th>\n",
       "      <th>moment</th>\n",
       "    </tr>\n",
       "  </thead>\n",
       "  <tbody>\n",
       "    <tr>\n",
       "      <th>0</th>\n",
       "      <td>Depuis La Chaize-le-vicomte à La Roche-sur-foron</td>\n",
       "      <td>La Chaize-le-vicomte</td>\n",
       "      <td>La Roche-sur-foron</td>\n",
       "      <td>NaN</td>\n",
       "    </tr>\n",
       "    <tr>\n",
       "      <th>1</th>\n",
       "      <td>Itiniréraire jusqu'a Giromagny depuis Quimper</td>\n",
       "      <td>Quimper</td>\n",
       "      <td>Giromagny</td>\n",
       "      <td>NaN</td>\n",
       "    </tr>\n",
       "    <tr>\n",
       "      <th>2</th>\n",
       "      <td>Comment aller de Boigneville à Longjumeau mardi</td>\n",
       "      <td>Boigneville</td>\n",
       "      <td>Longjumeau</td>\n",
       "      <td>mardi</td>\n",
       "    </tr>\n",
       "    <tr>\n",
       "      <th>3</th>\n",
       "      <td>Je suis actuellement à Villers-sur-mer et j’ai...</td>\n",
       "      <td>Villers-sur-mer</td>\n",
       "      <td>Ferrières-en-bray</td>\n",
       "      <td>NaN</td>\n",
       "    </tr>\n",
       "    <tr>\n",
       "      <th>4</th>\n",
       "      <td>Donne moi l'itinéraire pour aller à Fontenay-l...</td>\n",
       "      <td>Lizy-sur-ourcq</td>\n",
       "      <td>Fontenay-le-fleury</td>\n",
       "      <td>NaN</td>\n",
       "    </tr>\n",
       "  </tbody>\n",
       "</table>\n",
       "</div>"
      ],
      "text/plain": [
       "                                                text                  from  \\\n",
       "0   Depuis La Chaize-le-vicomte à La Roche-sur-foron  La Chaize-le-vicomte   \n",
       "1      Itiniréraire jusqu'a Giromagny depuis Quimper               Quimper   \n",
       "2    Comment aller de Boigneville à Longjumeau mardi           Boigneville   \n",
       "3  Je suis actuellement à Villers-sur-mer et j’ai...       Villers-sur-mer   \n",
       "4  Donne moi l'itinéraire pour aller à Fontenay-l...        Lizy-sur-ourcq   \n",
       "\n",
       "                   to moment  \n",
       "0  La Roche-sur-foron    NaN  \n",
       "1           Giromagny    NaN  \n",
       "2          Longjumeau  mardi  \n",
       "3   Ferrières-en-bray    NaN  \n",
       "4  Fontenay-le-fleury    NaN  "
      ]
     },
     "execution_count": 2,
     "metadata": {},
     "output_type": "execute_result"
    }
   ],
   "source": [
    "df.head()"
   ]
  },
  {
   "cell_type": "code",
   "execution_count": 3,
   "metadata": {},
   "outputs": [
    {
     "data": {
      "text/html": [
       "<div>\n",
       "<style scoped>\n",
       "    .dataframe tbody tr th:only-of-type {\n",
       "        vertical-align: middle;\n",
       "    }\n",
       "\n",
       "    .dataframe tbody tr th {\n",
       "        vertical-align: top;\n",
       "    }\n",
       "\n",
       "    .dataframe thead th {\n",
       "        text-align: right;\n",
       "    }\n",
       "</style>\n",
       "<table border=\"1\" class=\"dataframe\">\n",
       "  <thead>\n",
       "    <tr style=\"text-align: right;\">\n",
       "      <th></th>\n",
       "      <th>text</th>\n",
       "      <th>from</th>\n",
       "      <th>to</th>\n",
       "    </tr>\n",
       "  </thead>\n",
       "  <tbody>\n",
       "    <tr>\n",
       "      <th>0</th>\n",
       "      <td>Depuis La Chaize-le-vicomte à La Roche-sur-foron</td>\n",
       "      <td>La Chaize-le-vicomte</td>\n",
       "      <td>La Roche-sur-foron</td>\n",
       "    </tr>\n",
       "    <tr>\n",
       "      <th>1</th>\n",
       "      <td>Itiniréraire jusqu'a Giromagny depuis Quimper</td>\n",
       "      <td>Quimper</td>\n",
       "      <td>Giromagny</td>\n",
       "    </tr>\n",
       "    <tr>\n",
       "      <th>2</th>\n",
       "      <td>Comment aller de Boigneville à Longjumeau mardi</td>\n",
       "      <td>Boigneville</td>\n",
       "      <td>Longjumeau</td>\n",
       "    </tr>\n",
       "    <tr>\n",
       "      <th>3</th>\n",
       "      <td>Je suis actuellement à Villers-sur-mer et j’ai...</td>\n",
       "      <td>Villers-sur-mer</td>\n",
       "      <td>Ferrières-en-bray</td>\n",
       "    </tr>\n",
       "    <tr>\n",
       "      <th>4</th>\n",
       "      <td>Donne moi l'itinéraire pour aller à Fontenay-l...</td>\n",
       "      <td>Lizy-sur-ourcq</td>\n",
       "      <td>Fontenay-le-fleury</td>\n",
       "    </tr>\n",
       "  </tbody>\n",
       "</table>\n",
       "</div>"
      ],
      "text/plain": [
       "                                                text                  from  \\\n",
       "0   Depuis La Chaize-le-vicomte à La Roche-sur-foron  La Chaize-le-vicomte   \n",
       "1      Itiniréraire jusqu'a Giromagny depuis Quimper               Quimper   \n",
       "2    Comment aller de Boigneville à Longjumeau mardi           Boigneville   \n",
       "3  Je suis actuellement à Villers-sur-mer et j’ai...       Villers-sur-mer   \n",
       "4  Donne moi l'itinéraire pour aller à Fontenay-l...        Lizy-sur-ourcq   \n",
       "\n",
       "                   to  \n",
       "0  La Roche-sur-foron  \n",
       "1           Giromagny  \n",
       "2          Longjumeau  \n",
       "3   Ferrières-en-bray  \n",
       "4  Fontenay-le-fleury  "
      ]
     },
     "execution_count": 3,
     "metadata": {},
     "output_type": "execute_result"
    }
   ],
   "source": [
    "# remove moment column\n",
    "df = df.drop('moment', axis=1)\n",
    "df.head()"
   ]
  },
  {
   "cell_type": "code",
   "execution_count": 4,
   "metadata": {},
   "outputs": [
    {
     "data": {
      "text/html": [
       "<div>\n",
       "<style scoped>\n",
       "    .dataframe tbody tr th:only-of-type {\n",
       "        vertical-align: middle;\n",
       "    }\n",
       "\n",
       "    .dataframe tbody tr th {\n",
       "        vertical-align: top;\n",
       "    }\n",
       "\n",
       "    .dataframe thead th {\n",
       "        text-align: right;\n",
       "    }\n",
       "</style>\n",
       "<table border=\"1\" class=\"dataframe\">\n",
       "  <thead>\n",
       "    <tr style=\"text-align: right;\">\n",
       "      <th></th>\n",
       "      <th>text</th>\n",
       "      <th>from</th>\n",
       "      <th>to</th>\n",
       "    </tr>\n",
       "  </thead>\n",
       "  <tbody>\n",
       "  </tbody>\n",
       "</table>\n",
       "</div>"
      ],
      "text/plain": [
       "Empty DataFrame\n",
       "Columns: [text, from, to]\n",
       "Index: []"
      ]
     },
     "execution_count": 4,
     "metadata": {},
     "output_type": "execute_result"
    }
   ],
   "source": [
    "# Select lines which contains brackets\n",
    "df[df['text'].str.contains(r'\\(.*\\)', na=False)]"
   ]
  },
  {
   "cell_type": "code",
   "execution_count": 5,
   "metadata": {},
   "outputs": [
    {
     "data": {
      "text/html": [
       "<div>\n",
       "<style scoped>\n",
       "    .dataframe tbody tr th:only-of-type {\n",
       "        vertical-align: middle;\n",
       "    }\n",
       "\n",
       "    .dataframe tbody tr th {\n",
       "        vertical-align: top;\n",
       "    }\n",
       "\n",
       "    .dataframe thead th {\n",
       "        text-align: right;\n",
       "    }\n",
       "</style>\n",
       "<table border=\"1\" class=\"dataframe\">\n",
       "  <thead>\n",
       "    <tr style=\"text-align: right;\">\n",
       "      <th></th>\n",
       "      <th>text</th>\n",
       "      <th>from</th>\n",
       "      <th>to</th>\n",
       "    </tr>\n",
       "  </thead>\n",
       "  <tbody>\n",
       "    <tr>\n",
       "      <th>2000</th>\n",
       "      <td>Les chats noirs portent bonheur.</td>\n",
       "      <td>NaN</td>\n",
       "      <td>NaN</td>\n",
       "    </tr>\n",
       "    <tr>\n",
       "      <th>2001</th>\n",
       "      <td>Le chocolat est ma passion.</td>\n",
       "      <td>NaN</td>\n",
       "      <td>NaN</td>\n",
       "    </tr>\n",
       "    <tr>\n",
       "      <th>2002</th>\n",
       "      <td>Les étoiles scintillent dans le ciel nocturne.</td>\n",
       "      <td>NaN</td>\n",
       "      <td>NaN</td>\n",
       "    </tr>\n",
       "    <tr>\n",
       "      <th>2003</th>\n",
       "      <td>Les montagnes sont majestueuses en hiver.</td>\n",
       "      <td>NaN</td>\n",
       "      <td>NaN</td>\n",
       "    </tr>\n",
       "    <tr>\n",
       "      <th>2004</th>\n",
       "      <td>Les oiseaux chantent au lever du soleil.</td>\n",
       "      <td>NaN</td>\n",
       "      <td>NaN</td>\n",
       "    </tr>\n",
       "    <tr>\n",
       "      <th>...</th>\n",
       "      <td>...</td>\n",
       "      <td>...</td>\n",
       "      <td>...</td>\n",
       "    </tr>\n",
       "    <tr>\n",
       "      <th>2823</th>\n",
       "      <td>Je veux me rendre à Rochefort.</td>\n",
       "      <td>NaN</td>\n",
       "      <td>Rochefort</td>\n",
       "    </tr>\n",
       "    <tr>\n",
       "      <th>2824</th>\n",
       "      <td>Comment puis-je arriver à Saint-Malo ?</td>\n",
       "      <td>NaN</td>\n",
       "      <td>Saint-Malo</td>\n",
       "    </tr>\n",
       "    <tr>\n",
       "      <th>2825</th>\n",
       "      <td>J'aimerais aller à Thiers.</td>\n",
       "      <td>NaN</td>\n",
       "      <td>Thiers</td>\n",
       "    </tr>\n",
       "    <tr>\n",
       "      <th>2826</th>\n",
       "      <td>Je souhaite me rendre à Ussel.</td>\n",
       "      <td>NaN</td>\n",
       "      <td>Ussel</td>\n",
       "    </tr>\n",
       "    <tr>\n",
       "      <th>2827</th>\n",
       "      <td>Pourriez-vous m'indiquer le chemin pour aller ...</td>\n",
       "      <td>NaN</td>\n",
       "      <td>Villefranche-sur-Saône</td>\n",
       "    </tr>\n",
       "  </tbody>\n",
       "</table>\n",
       "<p>828 rows × 3 columns</p>\n",
       "</div>"
      ],
      "text/plain": [
       "                                                   text from  \\\n",
       "2000                   Les chats noirs portent bonheur.  NaN   \n",
       "2001                        Le chocolat est ma passion.  NaN   \n",
       "2002     Les étoiles scintillent dans le ciel nocturne.  NaN   \n",
       "2003          Les montagnes sont majestueuses en hiver.  NaN   \n",
       "2004           Les oiseaux chantent au lever du soleil.  NaN   \n",
       "...                                                 ...  ...   \n",
       "2823                     Je veux me rendre à Rochefort.  NaN   \n",
       "2824             Comment puis-je arriver à Saint-Malo ?  NaN   \n",
       "2825                         J'aimerais aller à Thiers.  NaN   \n",
       "2826                     Je souhaite me rendre à Ussel.  NaN   \n",
       "2827  Pourriez-vous m'indiquer le chemin pour aller ...  NaN   \n",
       "\n",
       "                          to  \n",
       "2000                     NaN  \n",
       "2001                     NaN  \n",
       "2002                     NaN  \n",
       "2003                     NaN  \n",
       "2004                     NaN  \n",
       "...                      ...  \n",
       "2823               Rochefort  \n",
       "2824              Saint-Malo  \n",
       "2825                  Thiers  \n",
       "2826                   Ussel  \n",
       "2827  Villefranche-sur-Saône  \n",
       "\n",
       "[828 rows x 3 columns]"
      ]
     },
     "execution_count": 5,
     "metadata": {},
     "output_type": "execute_result"
    }
   ],
   "source": [
    "df[df.isna().any(axis=1)]"
   ]
  },
  {
   "cell_type": "code",
   "execution_count": 73,
   "metadata": {},
   "outputs": [
    {
     "name": "stdout",
     "output_type": "stream",
     "text": [
      "Both 'from' and 'to' are NaN: 428 lines\n",
      "'from' has a value and 'to' is NaN: 100 lines\n",
      "'from' is NaN and 'to' has a value: 300 lines\n",
      "Both 'from' and 'to' have values: 2035 lines\n"
     ]
    }
   ],
   "source": [
    "# Count lines where both 'from' and 'to' are NaN\n",
    "both_nan_count = len(df[(df['from'].isna()) & (df['to'].isna())])\n",
    "\n",
    "# Count lines where 'from' contains a value and 'to' is NaN\n",
    "from_not_nan_count = len(df[(~df['from'].isna()) & (df['to'].isna())])\n",
    "\n",
    "# Count lines where 'from' is NaN and 'to' contains a value\n",
    "to_not_nan_count = len(df[(df['from'].isna()) & (~df['to'].isna())])\n",
    "\n",
    "# Count lines where both 'from' and 'to' contain values\n",
    "both_not_nan_count = len(df[(~df['from'].isna()) & (~df['to'].isna())])\n",
    "\n",
    "print(f\"Both 'from' and 'to' are NaN: {both_nan_count} lines\")\n",
    "print(f\"'from' has a value and 'to' is NaN: {from_not_nan_count} lines\")\n",
    "print(f\"'from' is NaN and 'to' has a value: {to_not_nan_count} lines\")\n",
    "print(f\"Both 'from' and 'to' have values: {both_not_nan_count} lines\")"
   ]
  },
  {
   "cell_type": "markdown",
   "metadata": {},
   "source": [
    "## Labelized Data\n",
    "\n",
    "This problem is a NER problem. Our model's goal is to classify each word to be a city **FROM** or **TO**.\n",
    "\n",
    "Our cities contains multiple word like \"La Chaize-le-vicomte\" we need o process them.\n",
    "We can process them using IOB tagging system.\n",
    "\n",
    "In our case, it will be:\n",
    "-  **B**: beginning of the chunk\n",
    "- **I**: inside of the chunk\n",
    "- **FROM**: city to departure\n",
    "- **TO**: city to arrive\n",
    "- **O**: Other"
   ]
  },
  {
   "cell_type": "code",
   "execution_count": 6,
   "metadata": {},
   "outputs": [],
   "source": [
    "import re\n",
    "\n",
    "# Remove punctuations\n",
    "def remove_punctuations(sentence):\n",
    "    punctuation_chars = [\",\", \".\", \"?\"]\n",
    "    pattern = \"[\" + \"\".join([re.escape(char) for char in punctuation_chars]) + \"]\"\n",
    "    cleaned_sentence = re.sub(pattern, \"\", sentence)\n",
    "    return cleaned_sentence\n",
    "\n",
    "# Apply the function to remove periods from the 'text' column\n",
    "df['text'] = df['text'].apply(remove_punctuations)"
   ]
  },
  {
   "cell_type": "code",
   "execution_count": 7,
   "metadata": {},
   "outputs": [
    {
     "data": {
      "text/html": [
       "<div>\n",
       "<style scoped>\n",
       "    .dataframe tbody tr th:only-of-type {\n",
       "        vertical-align: middle;\n",
       "    }\n",
       "\n",
       "    .dataframe tbody tr th {\n",
       "        vertical-align: top;\n",
       "    }\n",
       "\n",
       "    .dataframe thead th {\n",
       "        text-align: right;\n",
       "    }\n",
       "</style>\n",
       "<table border=\"1\" class=\"dataframe\">\n",
       "  <thead>\n",
       "    <tr style=\"text-align: right;\">\n",
       "      <th></th>\n",
       "      <th>text</th>\n",
       "      <th>from</th>\n",
       "      <th>to</th>\n",
       "      <th>IOB_labels</th>\n",
       "    </tr>\n",
       "  </thead>\n",
       "  <tbody>\n",
       "    <tr>\n",
       "      <th>0</th>\n",
       "      <td>Depuis La Chaize-le-vicomte à La Roche-sur-foron</td>\n",
       "      <td>La Chaize-le-vicomte</td>\n",
       "      <td>La Roche-sur-foron</td>\n",
       "      <td>[O, B-FROM, I-FROM, O, B-TO, I-TO]</td>\n",
       "    </tr>\n",
       "    <tr>\n",
       "      <th>1</th>\n",
       "      <td>Itiniréraire jusqu'a Giromagny depuis Quimper</td>\n",
       "      <td>Quimper</td>\n",
       "      <td>Giromagny</td>\n",
       "      <td>[O, O, B-TO, O, B-FROM]</td>\n",
       "    </tr>\n",
       "    <tr>\n",
       "      <th>2</th>\n",
       "      <td>Comment aller de Boigneville à Longjumeau mardi</td>\n",
       "      <td>Boigneville</td>\n",
       "      <td>Longjumeau</td>\n",
       "      <td>[O, O, O, B-FROM, O, B-TO, O]</td>\n",
       "    </tr>\n",
       "    <tr>\n",
       "      <th>3</th>\n",
       "      <td>Je suis actuellement à Villers-sur-mer et j’ai...</td>\n",
       "      <td>Villers-sur-mer</td>\n",
       "      <td>Ferrières-en-bray</td>\n",
       "      <td>[O, O, O, O, B-FROM, O, O, O, O, B-TO]</td>\n",
       "    </tr>\n",
       "    <tr>\n",
       "      <th>4</th>\n",
       "      <td>Donne moi l'itinéraire pour aller à Fontenay-l...</td>\n",
       "      <td>Lizy-sur-ourcq</td>\n",
       "      <td>Fontenay-le-fleury</td>\n",
       "      <td>[O, O, O, O, O, O, B-TO, O, O, O, B-FROM]</td>\n",
       "    </tr>\n",
       "    <tr>\n",
       "      <th>...</th>\n",
       "      <td>...</td>\n",
       "      <td>...</td>\n",
       "      <td>...</td>\n",
       "      <td>...</td>\n",
       "    </tr>\n",
       "    <tr>\n",
       "      <th>2858</th>\n",
       "      <td>De Lyon je souhaite me rendre à Chamonix pour ...</td>\n",
       "      <td>Lyon</td>\n",
       "      <td>Chamonix</td>\n",
       "      <td>[O, B-FROM, O, O, O, O, O, B-TO, O, O, O, O, O...</td>\n",
       "    </tr>\n",
       "    <tr>\n",
       "      <th>2859</th>\n",
       "      <td>De Lille je souhaite me rendre à Lillebonne po...</td>\n",
       "      <td>Lille</td>\n",
       "      <td>Lillebonne</td>\n",
       "      <td>[O, B-FROM, O, O, O, O, O, B-TO, O, O, O, O, O...</td>\n",
       "    </tr>\n",
       "    <tr>\n",
       "      <th>2860</th>\n",
       "      <td>De Strasbourg je souhaite voyager en train ver...</td>\n",
       "      <td>Strasbourg</td>\n",
       "      <td>Colmar</td>\n",
       "      <td>[O, B-FROM, O, O, O, O, O, O, B-TO, O, O, O, O...</td>\n",
       "    </tr>\n",
       "    <tr>\n",
       "      <th>2861</th>\n",
       "      <td>Pour rejoindre Monaco depuis Marseille en bate...</td>\n",
       "      <td>Marseille</td>\n",
       "      <td>Monaco</td>\n",
       "      <td>[O, O, B-TO, O, B-FROM, O, O, O, O, O, O, O, O...</td>\n",
       "    </tr>\n",
       "    <tr>\n",
       "      <th>2862</th>\n",
       "      <td>De Paris je souhaite me rendre à Londres en tr...</td>\n",
       "      <td>Paris</td>\n",
       "      <td>Londres</td>\n",
       "      <td>[O, B-FROM, O, O, O, O, O, B-TO, O, O, O, O, O...</td>\n",
       "    </tr>\n",
       "  </tbody>\n",
       "</table>\n",
       "<p>2863 rows × 4 columns</p>\n",
       "</div>"
      ],
      "text/plain": [
       "                                                   text                  from  \\\n",
       "0      Depuis La Chaize-le-vicomte à La Roche-sur-foron  La Chaize-le-vicomte   \n",
       "1         Itiniréraire jusqu'a Giromagny depuis Quimper               Quimper   \n",
       "2       Comment aller de Boigneville à Longjumeau mardi           Boigneville   \n",
       "3     Je suis actuellement à Villers-sur-mer et j’ai...       Villers-sur-mer   \n",
       "4     Donne moi l'itinéraire pour aller à Fontenay-l...        Lizy-sur-ourcq   \n",
       "...                                                 ...                   ...   \n",
       "2858  De Lyon je souhaite me rendre à Chamonix pour ...                  Lyon   \n",
       "2859  De Lille je souhaite me rendre à Lillebonne po...                 Lille   \n",
       "2860  De Strasbourg je souhaite voyager en train ver...            Strasbourg   \n",
       "2861  Pour rejoindre Monaco depuis Marseille en bate...             Marseille   \n",
       "2862  De Paris je souhaite me rendre à Londres en tr...                 Paris   \n",
       "\n",
       "                      to                                         IOB_labels  \n",
       "0     La Roche-sur-foron                 [O, B-FROM, I-FROM, O, B-TO, I-TO]  \n",
       "1              Giromagny                            [O, O, B-TO, O, B-FROM]  \n",
       "2             Longjumeau                      [O, O, O, B-FROM, O, B-TO, O]  \n",
       "3      Ferrières-en-bray             [O, O, O, O, B-FROM, O, O, O, O, B-TO]  \n",
       "4     Fontenay-le-fleury          [O, O, O, O, O, O, B-TO, O, O, O, B-FROM]  \n",
       "...                  ...                                                ...  \n",
       "2858            Chamonix  [O, B-FROM, O, O, O, O, O, B-TO, O, O, O, O, O...  \n",
       "2859          Lillebonne  [O, B-FROM, O, O, O, O, O, B-TO, O, O, O, O, O...  \n",
       "2860              Colmar  [O, B-FROM, O, O, O, O, O, O, B-TO, O, O, O, O...  \n",
       "2861              Monaco  [O, O, B-TO, O, B-FROM, O, O, O, O, O, O, O, O...  \n",
       "2862             Londres  [O, B-FROM, O, O, O, O, O, B-TO, O, O, O, O, O...  \n",
       "\n",
       "[2863 rows x 4 columns]"
      ]
     },
     "execution_count": 7,
     "metadata": {},
     "output_type": "execute_result"
    }
   ],
   "source": [
    "# create labels sequence using IOB system (for multi word city names)\n",
    "def create_IOB_label_sequence(sentence, city_from, city_to):\n",
    "    words = sentence.split()  \n",
    "    labels = []  \n",
    "    # manage NaN\n",
    "    city_from_words = city_from.split() if not pd.isna(city_from) else []\n",
    "    city_to_words = city_to.split() if not pd.isna(city_to) else []\n",
    "\n",
    "    index = 0  \n",
    "    while index < len(words):\n",
    "        if ' '.join(words[index:index + len(city_from_words)]) == city_from:\n",
    "            labels.append('B-FROM')\n",
    "            labels.extend(['I-FROM'] * (len(city_from_words) - 1))\n",
    "            index += len(city_from_words)\n",
    "        elif ' '.join(words[index:index + len(city_to_words)]) == city_to:\n",
    "            labels.append('B-TO')\n",
    "            labels.extend(['I-TO'] * (len(city_to_words) - 1))\n",
    "            index += len(city_to_words)\n",
    "        else:\n",
    "            labels.append('O')\n",
    "            index += 1\n",
    "\n",
    "    return labels\n",
    "\n",
    "df['IOB_labels'] = df.apply(lambda row: create_IOB_label_sequence(row['text'], row['from'], row['to']), axis=1)\n",
    "df"
   ]
  },
  {
   "cell_type": "code",
   "execution_count": 8,
   "metadata": {},
   "outputs": [
    {
     "data": {
      "text/html": [
       "<div>\n",
       "<style scoped>\n",
       "    .dataframe tbody tr th:only-of-type {\n",
       "        vertical-align: middle;\n",
       "    }\n",
       "\n",
       "    .dataframe tbody tr th {\n",
       "        vertical-align: top;\n",
       "    }\n",
       "\n",
       "    .dataframe thead th {\n",
       "        text-align: right;\n",
       "    }\n",
       "</style>\n",
       "<table border=\"1\" class=\"dataframe\">\n",
       "  <thead>\n",
       "    <tr style=\"text-align: right;\">\n",
       "      <th></th>\n",
       "      <th>text</th>\n",
       "      <th>from</th>\n",
       "      <th>to</th>\n",
       "      <th>IOB_labels</th>\n",
       "    </tr>\n",
       "  </thead>\n",
       "  <tbody>\n",
       "    <tr>\n",
       "      <th>2000</th>\n",
       "      <td>Les chats noirs portent bonheur</td>\n",
       "      <td>NaN</td>\n",
       "      <td>NaN</td>\n",
       "      <td>[O, O, O, O, O]</td>\n",
       "    </tr>\n",
       "    <tr>\n",
       "      <th>2001</th>\n",
       "      <td>Le chocolat est ma passion</td>\n",
       "      <td>NaN</td>\n",
       "      <td>NaN</td>\n",
       "      <td>[O, O, O, O, O]</td>\n",
       "    </tr>\n",
       "    <tr>\n",
       "      <th>2002</th>\n",
       "      <td>Les étoiles scintillent dans le ciel nocturne</td>\n",
       "      <td>NaN</td>\n",
       "      <td>NaN</td>\n",
       "      <td>[O, O, O, O, O, O, O]</td>\n",
       "    </tr>\n",
       "    <tr>\n",
       "      <th>2003</th>\n",
       "      <td>Les montagnes sont majestueuses en hiver</td>\n",
       "      <td>NaN</td>\n",
       "      <td>NaN</td>\n",
       "      <td>[O, O, O, O, O, O]</td>\n",
       "    </tr>\n",
       "    <tr>\n",
       "      <th>2004</th>\n",
       "      <td>Les oiseaux chantent au lever du soleil</td>\n",
       "      <td>NaN</td>\n",
       "      <td>NaN</td>\n",
       "      <td>[O, O, O, O, O, O, O]</td>\n",
       "    </tr>\n",
       "    <tr>\n",
       "      <th>...</th>\n",
       "      <td>...</td>\n",
       "      <td>...</td>\n",
       "      <td>...</td>\n",
       "      <td>...</td>\n",
       "    </tr>\n",
       "    <tr>\n",
       "      <th>2823</th>\n",
       "      <td>Je veux me rendre à Rochefort</td>\n",
       "      <td>NaN</td>\n",
       "      <td>Rochefort</td>\n",
       "      <td>[O, O, O, O, O, B-TO]</td>\n",
       "    </tr>\n",
       "    <tr>\n",
       "      <th>2824</th>\n",
       "      <td>Comment puis-je arriver à Saint-Malo</td>\n",
       "      <td>NaN</td>\n",
       "      <td>Saint-Malo</td>\n",
       "      <td>[O, O, O, O, B-TO]</td>\n",
       "    </tr>\n",
       "    <tr>\n",
       "      <th>2825</th>\n",
       "      <td>J'aimerais aller à Thiers</td>\n",
       "      <td>NaN</td>\n",
       "      <td>Thiers</td>\n",
       "      <td>[O, O, O, B-TO]</td>\n",
       "    </tr>\n",
       "    <tr>\n",
       "      <th>2826</th>\n",
       "      <td>Je souhaite me rendre à Ussel</td>\n",
       "      <td>NaN</td>\n",
       "      <td>Ussel</td>\n",
       "      <td>[O, O, O, O, O, B-TO]</td>\n",
       "    </tr>\n",
       "    <tr>\n",
       "      <th>2827</th>\n",
       "      <td>Pourriez-vous m'indiquer le chemin pour aller ...</td>\n",
       "      <td>NaN</td>\n",
       "      <td>Villefranche-sur-Saône</td>\n",
       "      <td>[O, O, O, O, O, O, O, B-TO]</td>\n",
       "    </tr>\n",
       "  </tbody>\n",
       "</table>\n",
       "<p>828 rows × 4 columns</p>\n",
       "</div>"
      ],
      "text/plain": [
       "                                                   text from  \\\n",
       "2000                    Les chats noirs portent bonheur  NaN   \n",
       "2001                         Le chocolat est ma passion  NaN   \n",
       "2002      Les étoiles scintillent dans le ciel nocturne  NaN   \n",
       "2003           Les montagnes sont majestueuses en hiver  NaN   \n",
       "2004            Les oiseaux chantent au lever du soleil  NaN   \n",
       "...                                                 ...  ...   \n",
       "2823                      Je veux me rendre à Rochefort  NaN   \n",
       "2824              Comment puis-je arriver à Saint-Malo   NaN   \n",
       "2825                          J'aimerais aller à Thiers  NaN   \n",
       "2826                      Je souhaite me rendre à Ussel  NaN   \n",
       "2827  Pourriez-vous m'indiquer le chemin pour aller ...  NaN   \n",
       "\n",
       "                          to                   IOB_labels  \n",
       "2000                     NaN              [O, O, O, O, O]  \n",
       "2001                     NaN              [O, O, O, O, O]  \n",
       "2002                     NaN        [O, O, O, O, O, O, O]  \n",
       "2003                     NaN           [O, O, O, O, O, O]  \n",
       "2004                     NaN        [O, O, O, O, O, O, O]  \n",
       "...                      ...                          ...  \n",
       "2823               Rochefort        [O, O, O, O, O, B-TO]  \n",
       "2824              Saint-Malo           [O, O, O, O, B-TO]  \n",
       "2825                  Thiers              [O, O, O, B-TO]  \n",
       "2826                   Ussel        [O, O, O, O, O, B-TO]  \n",
       "2827  Villefranche-sur-Saône  [O, O, O, O, O, O, O, B-TO]  \n",
       "\n",
       "[828 rows x 4 columns]"
      ]
     },
     "execution_count": 8,
     "metadata": {},
     "output_type": "execute_result"
    }
   ],
   "source": [
    "df[df.isna().any(axis=1)]"
   ]
  },
  {
   "cell_type": "markdown",
   "metadata": {},
   "source": [
    "## Split data"
   ]
  },
  {
   "cell_type": "code",
   "execution_count": 9,
   "metadata": {},
   "outputs": [
    {
     "data": {
      "text/plain": [
       "(array(['Depuis La Chaize-le-vicomte à La Roche-sur-foron',\n",
       "        \"Itiniréraire jusqu'a Giromagny depuis Quimper\",\n",
       "        'Comment aller de Boigneville à Longjumeau mardi',\n",
       "        'Je suis actuellement à Villers-sur-mer et j’aimerais partir à Ferrières-en-bray',\n",
       "        \"Donne moi l'itinéraire pour aller à Fontenay-le-fleury en partant de Lizy-sur-ourcq\",\n",
       "        'Comment aller de Viviers-du-lac à Aytré',\n",
       "        'Je pars de Caen pour aller à Villeneuve-la-comtesse',\n",
       "        \"le départ et l'arrivée de mon voyage sont Sathonay-camp et Quillan\",\n",
       "        'Quel trajet pour Éveux Grandvilliers',\n",
       "        'train Wizernes Sillé-le-guillaume'], dtype=object),\n",
       " array([list(['O', 'B-FROM', 'I-FROM', 'O', 'B-TO', 'I-TO']),\n",
       "        list(['O', 'O', 'B-TO', 'O', 'B-FROM']),\n",
       "        list(['O', 'O', 'O', 'B-FROM', 'O', 'B-TO', 'O']),\n",
       "        list(['O', 'O', 'O', 'O', 'B-FROM', 'O', 'O', 'O', 'O', 'B-TO']),\n",
       "        list(['O', 'O', 'O', 'O', 'O', 'O', 'B-TO', 'O', 'O', 'O', 'B-FROM']),\n",
       "        list(['O', 'O', 'O', 'B-FROM', 'O', 'B-TO']),\n",
       "        list(['O', 'O', 'O', 'B-FROM', 'O', 'O', 'O', 'B-TO']),\n",
       "        list(['O', 'O', 'O', 'O', 'O', 'O', 'O', 'O', 'B-FROM', 'O', 'B-TO']),\n",
       "        list(['O', 'O', 'O', 'B-FROM', 'B-TO']),\n",
       "        list(['O', 'B-FROM', 'B-TO'])], dtype=object))"
      ]
     },
     "execution_count": 9,
     "metadata": {},
     "output_type": "execute_result"
    }
   ],
   "source": [
    "X = df['text'].values\n",
    "y = df['IOB_labels'].values\n",
    "\n",
    "X[:10], y[:10]"
   ]
  },
  {
   "cell_type": "code",
   "execution_count": 58,
   "metadata": {},
   "outputs": [
    {
     "data": {
      "text/plain": [
       "(array(['Les rires sont contagieux',\n",
       "        'Ma provenance et ma destination sont Cinq-mars-la-pile et Le Meux',\n",
       "        'Je veux me rendre à Yssingeaux',\n",
       "        'Les balançoires sont amusantes au parc',\n",
       "        'Je veux aller à Bertrichamps depuis Thuès-entre-valls'],\n",
       "       dtype=object),\n",
       " array([list(['O', 'O', 'O', 'O']),\n",
       "        list(['O', 'O', 'O', 'O', 'O', 'O', 'B-FROM', 'O', 'B-TO', 'I-TO']),\n",
       "        list(['O', 'O', 'O', 'O', 'O', 'B-TO']),\n",
       "        list(['O', 'O', 'O', 'O', 'O', 'O']),\n",
       "        list(['O', 'O', 'O', 'O', 'B-TO', 'O', 'B-FROM'])], dtype=object))"
      ]
     },
     "execution_count": 58,
     "metadata": {},
     "output_type": "execute_result"
    }
   ],
   "source": [
    "from sklearn.model_selection import train_test_split\n",
    "X_train, X_test, y_train, y_test = train_test_split(X, y, \n",
    "                                                    test_size=0.2,\n",
    "                                                    random_state=42)\n",
    "\n",
    "X_train[:5], y_train[:5]"
   ]
  },
  {
   "cell_type": "code",
   "execution_count": 71,
   "metadata": {},
   "outputs": [
    {
     "data": {
      "text/plain": [
       "(2290, 573)"
      ]
     },
     "execution_count": 71,
     "metadata": {},
     "output_type": "execute_result"
    }
   ],
   "source": [
    "len(X_train), len(y_test)"
   ]
  },
  {
   "cell_type": "code",
   "execution_count": 72,
   "metadata": {},
   "outputs": [
    {
     "data": {
      "text/plain": [
       "2863"
      ]
     },
     "execution_count": 72,
     "metadata": {},
     "output_type": "execute_result"
    }
   ],
   "source": [
    "len(X)"
   ]
  },
  {
   "cell_type": "markdown",
   "metadata": {},
   "source": [
    "# Text vectorization (Tokenisation)\n",
    "\n"
   ]
  },
  {
   "cell_type": "markdown",
   "metadata": {},
   "source": [
    "## Vectorizing X (Sentences)"
   ]
  },
  {
   "cell_type": "code",
   "execution_count": 59,
   "metadata": {},
   "outputs": [
    {
     "name": "stdout",
     "output_type": "stream",
     "text": [
      "Number of unique words: 3532\n"
     ]
    }
   ],
   "source": [
    "# Combine all the text data into a single string\n",
    "combined_text = ' '.join(df['text'])\n",
    "\n",
    "# Tokenize the combined text into words (you can use a regex pattern)\n",
    "words = re.findall(r'\\w+', combined_text.lower())\n",
    "\n",
    "# Create a set to store unique words\n",
    "unique_words = set(words)\n",
    "\n",
    "# Count the number of unique words\n",
    "num_unique_words = len(unique_words)\n",
    "\n",
    "print(\"Number of unique words:\", num_unique_words)"
   ]
  },
  {
   "cell_type": "code",
   "execution_count": 60,
   "metadata": {},
   "outputs": [
    {
     "data": {
      "text/plain": [
       "36"
      ]
     },
     "execution_count": 60,
     "metadata": {},
     "output_type": "execute_result"
    }
   ],
   "source": [
    "# Find the longest sentence by word count\n",
    "longest_sentence = df['text'].explode().apply(lambda x: len(x.split())).idxmax()\n",
    "longest_sentence_text = df['text'].explode()[longest_sentence]\n",
    "\n",
    "len(longest_sentence_text.split())"
   ]
  },
  {
   "cell_type": "code",
   "execution_count": 61,
   "metadata": {},
   "outputs": [],
   "source": [
    "from keras.layers import TextVectorization\n",
    "import tensorflow as tf\n",
    "import re\n",
    "import string\n",
    "\n",
    "max_vocab_length = 4000 # max number of words to have in our vocabulary \n",
    "max_length = 30 # max length our sequences will be\n",
    "\n",
    "# Custom standardization function\n",
    "def custom_standardization(input_text):\n",
    "    # Remove punctuations, but preserve apostrophes\n",
    "    return tf.strings.regex_replace(input_text, \"[^a-zA-Z0-9À-ÖØ-öø-ÿ' ]\", \"\")\n",
    "\n",
    "text_vectorizer = TextVectorization(max_tokens=max_vocab_length, # max number of words to have in our vocabulary\n",
    "                                    standardize=custom_standardization,\n",
    "                                    split=\"whitespace\",\n",
    "                                    output_mode=\"int\",\n",
    "                                    output_sequence_length=max_length\n",
    "                                    )\n",
    "\n",
    "# Fit the text vectorizer to the training text\n",
    "text_vectorizer.adapt(X_train)"
   ]
  },
  {
   "cell_type": "code",
   "execution_count": 62,
   "metadata": {},
   "outputs": [
    {
     "name": "stdout",
     "output_type": "stream",
     "text": [
      "Original text:\n",
      " Je partirais de Tassin-la-demi-lune pour aller à Avesnelles       \n",
      "\n",
      "Vectorized version:\n"
     ]
    },
    {
     "data": {
      "text/plain": [
       "<tf.Tensor: shape=(1, 30), dtype=int64, numpy=\n",
       "array([[   4,   41,    3,  830,    6,    5,    2, 2977,    0,    0,    0,\n",
       "           0,    0,    0,    0,    0,    0,    0,    0,    0,    0,    0,\n",
       "           0,    0,    0,    0,    0,    0,    0,    0]], dtype=int64)>"
      ]
     },
     "execution_count": 62,
     "metadata": {},
     "output_type": "execute_result"
    }
   ],
   "source": [
    "# Choose a random sentence from the training dataset and tokenize it\n",
    "import random\n",
    "\n",
    "random_sentence = random.choice(X_train)\n",
    "print(f\"Original text:\\n {random_sentence} \\\n",
    "      \\n\\nVectorized version:\")\n",
    "text_vectorizer([random_sentence])"
   ]
  },
  {
   "cell_type": "code",
   "execution_count": 63,
   "metadata": {},
   "outputs": [
    {
     "name": "stdout",
     "output_type": "stream",
     "text": [
      "Number of words in vocab: 3045\n",
      "5 most common words: ['', '[UNK]', 'à', 'de', 'Je', 'aller', 'pour']\n",
      "5 least common words: ['Albert', 'AixlesBains', 'Aillysurnoye', 'Aiguesmortes', 'Acheres']\n"
     ]
    }
   ],
   "source": [
    "# Get the unique words in the vocabulary\n",
    "words_in_vocab = text_vectorizer.get_vocabulary() # get all of the unique words in our training data\n",
    "top_5_words = words_in_vocab[:5+2] # get most common words (with the 2 specials characters, O: padding token, UNK: unknown)\n",
    "bottom_5_words = words_in_vocab[-5:] # get the least common words\n",
    "\n",
    "print(f\"Number of words in vocab: {len(words_in_vocab)}\")\n",
    "print(f\"5 most common words: {top_5_words}\")\n",
    "print(f\"5 least common words: {bottom_5_words}\")"
   ]
  },
  {
   "cell_type": "markdown",
   "metadata": {},
   "source": [
    "## Preparing Y (IOB Labels)\n",
    "\n",
    "IOB labels should be converted also to numerical format."
   ]
  },
  {
   "cell_type": "code",
   "execution_count": 64,
   "metadata": {},
   "outputs": [
    {
     "data": {
      "text/plain": [
       "<tf.Tensor: shape=(21398,), dtype=string, numpy=array([b'O', b'B-FROM', b'I-FROM', ..., b'O', b'O', b'O'], dtype=object)>"
      ]
     },
     "execution_count": 64,
     "metadata": {},
     "output_type": "execute_result"
    }
   ],
   "source": [
    "import itertools\n",
    "\n",
    "# flatten labels\n",
    "y_flatten = list(itertools.chain.from_iterable(y))\n",
    "y_flatten_tensor = tf.convert_to_tensor(y_flatten)\n",
    "y_flatten_tensor"
   ]
  },
  {
   "cell_type": "code",
   "execution_count": 65,
   "metadata": {},
   "outputs": [
    {
     "data": {
      "text/plain": [
       "['O', 'B-TO', 'B-FROM', 'I-TO', 'I-FROM']"
      ]
     },
     "execution_count": 65,
     "metadata": {},
     "output_type": "execute_result"
    }
   ],
   "source": [
    "from keras.layers import StringLookup\n",
    "\n",
    "label_lookup = StringLookup(output_mode='int',\n",
    "                            max_tokens=5,\n",
    "                            num_oov_indices=0)\n",
    "\n",
    "# Fit the layer on training labels\n",
    "label_lookup.adapt(y_flatten_tensor)\n",
    "\n",
    "# Transform labels to integers\n",
    "label_lookup.get_vocabulary()"
   ]
  },
  {
   "cell_type": "code",
   "execution_count": 66,
   "metadata": {},
   "outputs": [
    {
     "data": {
      "text/plain": [
       "([array([0, 0, 0, 0], dtype=int64),\n",
       "  array([0, 0, 0, 0, 0, 0, 2, 0, 1, 3], dtype=int64),\n",
       "  array([0, 0, 0, 0, 0, 1], dtype=int64),\n",
       "  array([0, 0, 0, 0, 0, 0], dtype=int64),\n",
       "  array([0, 0, 0, 0, 1, 0, 2], dtype=int64)],\n",
       " [array([0, 0, 0, 0, 0, 0, 0, 0, 2, 0, 1], dtype=int64),\n",
       "  array([0, 0, 0, 0, 2, 0], dtype=int64),\n",
       "  array([0, 0, 0, 0, 0, 2, 0, 0, 0, 1], dtype=int64),\n",
       "  array([0, 0, 0, 0, 0, 0, 2, 0, 1], dtype=int64),\n",
       "  array([0, 0, 0, 0, 0, 0, 0, 0, 2, 4, 1, 3, 0, 0, 0], dtype=int64)])"
      ]
     },
     "execution_count": 66,
     "metadata": {},
     "output_type": "execute_result"
    }
   ],
   "source": [
    "y_train_transformed = [label_lookup(labels).numpy() for labels in y_train]\n",
    "y_test_transformed = [label_lookup(labels).numpy() for labels in y_test]\n",
    "\n",
    "y_train_transformed[:5], y_test_transformed[:5]"
   ]
  },
  {
   "cell_type": "code",
   "execution_count": 67,
   "metadata": {},
   "outputs": [
    {
     "data": {
      "text/plain": [
       "(array([[0, 0, 0, 0, 5, 5, 5, 5, 5, 5, 5, 5, 5, 5, 5, 5, 5, 5, 5, 5, 5, 5,\n",
       "         5, 5, 5, 5, 5, 5, 5, 5],\n",
       "        [0, 0, 0, 0, 0, 0, 2, 0, 1, 3, 5, 5, 5, 5, 5, 5, 5, 5, 5, 5, 5, 5,\n",
       "         5, 5, 5, 5, 5, 5, 5, 5],\n",
       "        [0, 0, 0, 0, 0, 1, 5, 5, 5, 5, 5, 5, 5, 5, 5, 5, 5, 5, 5, 5, 5, 5,\n",
       "         5, 5, 5, 5, 5, 5, 5, 5],\n",
       "        [0, 0, 0, 0, 0, 0, 5, 5, 5, 5, 5, 5, 5, 5, 5, 5, 5, 5, 5, 5, 5, 5,\n",
       "         5, 5, 5, 5, 5, 5, 5, 5],\n",
       "        [0, 0, 0, 0, 1, 0, 2, 5, 5, 5, 5, 5, 5, 5, 5, 5, 5, 5, 5, 5, 5, 5,\n",
       "         5, 5, 5, 5, 5, 5, 5, 5]]),\n",
       " array([[0, 0, 0, 0, 0, 0, 0, 0, 2, 0, 1, 5, 5, 5, 5, 5, 5, 5, 5, 5, 5, 5,\n",
       "         5, 5, 5, 5, 5, 5, 5, 5],\n",
       "        [0, 0, 0, 0, 2, 0, 5, 5, 5, 5, 5, 5, 5, 5, 5, 5, 5, 5, 5, 5, 5, 5,\n",
       "         5, 5, 5, 5, 5, 5, 5, 5],\n",
       "        [0, 0, 0, 0, 0, 2, 0, 0, 0, 1, 5, 5, 5, 5, 5, 5, 5, 5, 5, 5, 5, 5,\n",
       "         5, 5, 5, 5, 5, 5, 5, 5],\n",
       "        [0, 0, 0, 0, 0, 0, 2, 0, 1, 5, 5, 5, 5, 5, 5, 5, 5, 5, 5, 5, 5, 5,\n",
       "         5, 5, 5, 5, 5, 5, 5, 5],\n",
       "        [0, 0, 0, 0, 0, 0, 0, 0, 2, 4, 1, 3, 0, 0, 0, 5, 5, 5, 5, 5, 5, 5,\n",
       "         5, 5, 5, 5, 5, 5, 5, 5]]))"
      ]
     },
     "execution_count": 67,
     "metadata": {},
     "output_type": "execute_result"
    }
   ],
   "source": [
    "# pad my y to be equals at X padded size\n",
    "from keras.preprocessing.sequence import pad_sequences\n",
    "\n",
    "# Define a padding value that's different from any actual IOB tags\n",
    "PADDING_LABEL = label_lookup.vocabulary_size()  # 'num_tags' is the number of IOB tags you have\n",
    "\n",
    "y_train_padded = pad_sequences(y_train_transformed, maxlen=max_length, padding='post', value=PADDING_LABEL)\n",
    "y_test_padded = pad_sequences(y_test_transformed, maxlen=max_length, padding='post', value=PADDING_LABEL)\n",
    "\n",
    "y_train_padded[:5], y_test_padded[:5]"
   ]
  },
  {
   "cell_type": "markdown",
   "metadata": {},
   "source": [
    "# Make a modelling checkpoint callback"
   ]
  },
  {
   "cell_type": "code",
   "execution_count": 68,
   "metadata": {},
   "outputs": [],
   "source": [
    "\n",
    "\n",
    "import os\n",
    "import logging\n",
    "\n",
    "tf.get_logger().setLevel(logging.WARNING) # remove INFO log (model saved at...)\n",
    "\n",
    "# Create a function to implement a ModelCheckpoint callback with a specific filename\n",
    "def create_model_checkpoint(model_name, save_path=\"model_experiments\"):\n",
    "    return tf.keras.callbacks.ModelCheckpoint(\n",
    "        filepath=os.path.join(save_path, model_name),\n",
    "        monitor=\"val_loss\",\n",
    "        verbose=0, # only output a limited amount of text\n",
    "        save_best_only=True,\n",
    "    )"
   ]
  },
  {
   "cell_type": "markdown",
   "metadata": {},
   "source": [
    "# Model creation"
   ]
  },
  {
   "cell_type": "markdown",
   "metadata": {},
   "source": [
    "# Model 2 LSTM"
   ]
  },
  {
   "cell_type": "code",
   "execution_count": 69,
   "metadata": {},
   "outputs": [
    {
     "name": "stdout",
     "output_type": "stream",
     "text": [
      "Epoch 1/30\n",
      "72/72 [==============================] - 5s 48ms/step - loss: 0.6520 - accuracy: 0.8226 - val_loss: 0.3597 - val_accuracy: 0.9354\n",
      "Epoch 2/30\n",
      "72/72 [==============================] - 3s 47ms/step - loss: 0.2417 - accuracy: 0.9417 - val_loss: 0.1635 - val_accuracy: 0.9446\n",
      "Epoch 3/30\n",
      "72/72 [==============================] - 3s 40ms/step - loss: 0.1117 - accuracy: 0.9662 - val_loss: 0.0871 - val_accuracy: 0.9745\n",
      "Epoch 4/30\n",
      "72/72 [==============================] - 3s 39ms/step - loss: 0.0602 - accuracy: 0.9846 - val_loss: 0.0576 - val_accuracy: 0.9827\n",
      "Epoch 5/30\n",
      "72/72 [==============================] - 3s 44ms/step - loss: 0.0390 - accuracy: 0.9902 - val_loss: 0.0432 - val_accuracy: 0.9873\n",
      "Epoch 6/30\n",
      "72/72 [==============================] - 4s 50ms/step - loss: 0.0282 - accuracy: 0.9915 - val_loss: 0.0346 - val_accuracy: 0.9898\n",
      "Epoch 7/30\n",
      "72/72 [==============================] - 3s 45ms/step - loss: 0.0213 - accuracy: 0.9936 - val_loss: 0.0290 - val_accuracy: 0.9914\n",
      "Epoch 8/30\n",
      "72/72 [==============================] - 3s 44ms/step - loss: 0.0164 - accuracy: 0.9963 - val_loss: 0.0259 - val_accuracy: 0.9924\n",
      "Epoch 9/30\n",
      "72/72 [==============================] - 4s 50ms/step - loss: 0.0125 - accuracy: 0.9982 - val_loss: 0.0229 - val_accuracy: 0.9932\n",
      "Epoch 10/30\n",
      "72/72 [==============================] - 3s 45ms/step - loss: 0.0094 - accuracy: 0.9988 - val_loss: 0.0215 - val_accuracy: 0.9937\n",
      "Epoch 11/30\n",
      "72/72 [==============================] - 3s 43ms/step - loss: 0.0074 - accuracy: 0.9991 - val_loss: 0.0200 - val_accuracy: 0.9937\n",
      "Epoch 12/30\n",
      "72/72 [==============================] - 4s 50ms/step - loss: 0.0057 - accuracy: 0.9994 - val_loss: 0.0189 - val_accuracy: 0.9939\n",
      "Epoch 13/30\n",
      "72/72 [==============================] - 3s 43ms/step - loss: 0.0046 - accuracy: 0.9995 - val_loss: 0.0181 - val_accuracy: 0.9943\n",
      "Epoch 14/30\n",
      "72/72 [==============================] - 3s 43ms/step - loss: 0.0038 - accuracy: 0.9996 - val_loss: 0.0179 - val_accuracy: 0.9942\n",
      "Epoch 15/30\n",
      "72/72 [==============================] - 4s 51ms/step - loss: 0.0032 - accuracy: 0.9997 - val_loss: 0.0175 - val_accuracy: 0.9945\n",
      "Epoch 16/30\n",
      "72/72 [==============================] - 3s 40ms/step - loss: 0.0027 - accuracy: 0.9997 - val_loss: 0.0174 - val_accuracy: 0.9948\n",
      "Epoch 17/30\n",
      "72/72 [==============================] - 3s 39ms/step - loss: 0.0023 - accuracy: 0.9997 - val_loss: 0.0167 - val_accuracy: 0.9950\n",
      "Epoch 18/30\n",
      "72/72 [==============================] - 1s 15ms/step - loss: 0.0020 - accuracy: 0.9998 - val_loss: 0.0176 - val_accuracy: 0.9948\n",
      "Epoch 19/30\n",
      "72/72 [==============================] - 1s 15ms/step - loss: 0.0017 - accuracy: 0.9998 - val_loss: 0.0171 - val_accuracy: 0.9951\n",
      "Epoch 20/30\n",
      "72/72 [==============================] - 1s 15ms/step - loss: 0.0015 - accuracy: 0.9998 - val_loss: 0.0167 - val_accuracy: 0.9950\n",
      "Epoch 21/30\n",
      "72/72 [==============================] - 1s 15ms/step - loss: 0.0014 - accuracy: 0.9998 - val_loss: 0.0170 - val_accuracy: 0.9947\n",
      "Epoch 22/30\n",
      "72/72 [==============================] - 1s 15ms/step - loss: 0.0013 - accuracy: 0.9998 - val_loss: 0.0167 - val_accuracy: 0.9948\n",
      "Epoch 23/30\n",
      "72/72 [==============================] - 3s 39ms/step - loss: 0.0012 - accuracy: 0.9998 - val_loss: 0.0164 - val_accuracy: 0.9949\n",
      "Epoch 24/30\n",
      "72/72 [==============================] - 3s 47ms/step - loss: 0.0011 - accuracy: 0.9998 - val_loss: 0.0162 - val_accuracy: 0.9949\n",
      "Epoch 25/30\n",
      "72/72 [==============================] - 1s 16ms/step - loss: 0.0010 - accuracy: 0.9998 - val_loss: 0.0164 - val_accuracy: 0.9949\n",
      "Epoch 26/30\n",
      "72/72 [==============================] - 3s 40ms/step - loss: 9.7503e-04 - accuracy: 0.9999 - val_loss: 0.0160 - val_accuracy: 0.9951\n",
      "Epoch 27/30\n",
      "72/72 [==============================] - 1s 16ms/step - loss: 8.9344e-04 - accuracy: 0.9998 - val_loss: 0.0165 - val_accuracy: 0.9951\n",
      "Epoch 28/30\n",
      "72/72 [==============================] - 1s 16ms/step - loss: 8.3521e-04 - accuracy: 0.9999 - val_loss: 0.0165 - val_accuracy: 0.9950\n",
      "Epoch 29/30\n",
      "72/72 [==============================] - 1s 16ms/step - loss: 8.0790e-04 - accuracy: 0.9999 - val_loss: 0.0163 - val_accuracy: 0.9952\n",
      "Epoch 30/30\n",
      "72/72 [==============================] - 1s 16ms/step - loss: 7.8332e-04 - accuracy: 0.9998 - val_loss: 0.0161 - val_accuracy: 0.9950\n"
     ]
    },
    {
     "data": {
      "text/plain": [
       "<keras.src.callbacks.History at 0x179cd279e10>"
      ]
     },
     "execution_count": 69,
     "metadata": {},
     "output_type": "execute_result"
    }
   ],
   "source": [
    "from tensorflow import keras\n",
    "from keras import layers\n",
    "\n",
    "max_vocab_length = text_vectorizer.vocabulary_size() + 1 # Max number of words in the vocabulary (+ OOV token)\n",
    "max_length = max_length # Max length of each sequence\n",
    "num_tags = label_lookup.vocabulary_size() + 1 # Number of unique IOB tags (including 'O' and PADDING_LABEL)\n",
    "\n",
    "model = keras.Sequential([\n",
    "    layers.Input((1,), dtype=tf.string), # raw input string\n",
    "    text_vectorizer, # turn the input text into numbers\n",
    "    layers.Embedding(input_dim=max_vocab_length + 1, output_dim=128, mask_zero=False), # tells the model to ignore padded 0 (enhance correct sentences but more computation) ( False for evaluate, True for production)\n",
    "    layers.LSTM(64, return_sequences=True),\n",
    "    layers.TimeDistributed(layers.Dense(num_tags, activation=\"softmax\")), # make a prediction for each word in the sequence.\n",
    "], name=\"model_2\")\n",
    "\n",
    "model.compile(loss=keras.losses.SparseCategoricalCrossentropy(),\n",
    "              optimizer=keras.optimizers.Adam(),\n",
    "              metrics=['accuracy'])\n",
    "\n",
    "model.fit(X_train,\n",
    "          y_train_padded,\n",
    "          epochs=30,\n",
    "          validation_data=(X_test, y_test_padded),\n",
    "          verbose=1,\n",
    "          callbacks=[create_model_checkpoint(model_name=model.name)])"
   ]
  },
  {
   "cell_type": "code",
   "execution_count": 53,
   "metadata": {},
   "outputs": [
    {
     "name": "stdout",
     "output_type": "stream",
     "text": [
      "9/9 [==============================] - 0s 7ms/step - loss: 0.0096 - accuracy: 0.9970\n"
     ]
    },
    {
     "data": {
      "text/plain": [
       "[0.009609833359718323, 0.9969802498817444]"
      ]
     },
     "execution_count": 53,
     "metadata": {},
     "output_type": "execute_result"
    }
   ],
   "source": [
    "\n",
    "from tensorflow import keras\n",
    "from keras import layers\n",
    "\n",
    "# loss , accuracy\n",
    "model_2 = keras.models.load_model('model_experiments/model_2', custom_objects={'custom_standardization': custom_standardization})\n",
    "model_2.evaluate(X_test, y_test_padded)"
   ]
  },
  {
   "cell_type": "code",
   "execution_count": 54,
   "metadata": {},
   "outputs": [],
   "source": [
    "from sklearn.metrics import accuracy_score, precision_recall_fscore_support, multilabel_confusion_matrix\n",
    "import tensorflow as tf\n",
    "import numpy as np\n",
    "import seaborn as sns\n",
    "import matplotlib.pyplot as plt\n",
    "\n",
    "def calculate_results(y_true, y_pred):\n",
    "    \"\"\"\n",
    "    Calculates model accuracy, precision, recall, and f1 score for multi-label classification with sequences.\n",
    "    \"\"\"\n",
    "    # Flatten both y_true and y_pred\n",
    "    y_true_flat = np.concatenate(y_true)\n",
    "    y_pred_flat = np.concatenate(y_pred)\n",
    "\n",
    "    # Calculate accuracy\n",
    "    accuracy = accuracy_score(y_true_flat, y_pred_flat) * 100\n",
    "    \n",
    "    # Calculate multilabel confusion matrix\n",
    "    mcm = multilabel_confusion_matrix(y_true_flat, y_pred_flat)\n",
    "\n",
    "    # Calculate weighted precision, recall, and F1-score\n",
    "    precision, recall, f1, _ = precision_recall_fscore_support(y_true_flat, y_pred_flat, average=\"weighted\")\n",
    "\n",
    "    model_results = {\"accuracy\": accuracy,\n",
    "                     \"precision\": precision,\n",
    "                     \"recall\": recall,\n",
    "                     \"f1\": f1, \n",
    "                     \"mcm\": mcm}\n",
    "    \n",
    "    return model_results\n",
    "\n",
    "\n",
    "\n",
    "# def map_labels_to_names(labels):\n",
    "#     return [class_names[label] for label in labels]\n",
    "\n",
    "def plot_multilabel_confusion_matrix(mcm):\n",
    "    \"\"\"\n",
    "    Display the confusion matrix for each label\n",
    "    \"\"\"\n",
    "    class_names = label_lookup.get_vocabulary() + [\"PAD\"]\n",
    "    num_labels = len(class_names)\n",
    "\n",
    "    # Determine the number of rows and columns for subplots\n",
    "    num_rows = int(num_labels / 3) + 1  # You can adjust the number of columns as needed\n",
    "    num_cols = 3\n",
    "\n",
    "    # Create a single figure with subplots\n",
    "    fig, axes = plt.subplots(num_rows, num_cols, figsize=(15, 15))\n",
    "\n",
    "    for i, ax in enumerate(axes.flat):\n",
    "        if i < num_labels:\n",
    "            label_name = class_names[i]\n",
    "            confusion_matrix = mcm[i]\n",
    "\n",
    "            sns.heatmap(confusion_matrix, annot=True, fmt=\"d\", cmap=\"Blues\", ax=ax)\n",
    "            ax.set_title(f\"Confusion Matrix for {label_name}\")\n",
    "            ax.set_xlabel(\"Predicted\")\n",
    "            ax.set_ylabel(\"Actual\")\n",
    "        else:\n",
    "            ax.axis(\"off\")  # Hide any empty subplots\n",
    "\n",
    "    plt.tight_layout()\n",
    "    plt.show()"
   ]
  },
  {
   "cell_type": "code",
   "execution_count": 55,
   "metadata": {},
   "outputs": [],
   "source": [
    "# def mask_and_decode_predictions(X, y_padded) -> list:\n",
    "#     \"\"\"\n",
    "#     Masks padding and decodes model predictions for a sequence-to-sequence task.\n",
    "#     \"\"\"\n",
    "#     y_labels_masked = []\n",
    "\n",
    "#     # mask padding and decode prediction\n",
    "#     for i, y_padded in enumerate(y_padded):\n",
    "#         actual_length = len(X[i].split())  # Length of the actual sentence\n",
    "#         y_label_masked = tf.argmax(y_padded, axis=-1).numpy()[:actual_length]  # Consider only actual length\n",
    "#         y_labels_masked.append(y_label_masked)\n",
    "        \n",
    "#     return y_labels_masked"
   ]
  },
  {
   "cell_type": "code",
   "execution_count": 56,
   "metadata": {},
   "outputs": [
    {
     "name": "stdout",
     "output_type": "stream",
     "text": [
      "9/9 [==============================] - 0s 7ms/step\n",
      "accuracy: 99.69802555168408\n",
      "precision: 0.9969981989468708\n",
      "recall: 0.9969802555168409\n",
      "f1: 0.9969840385610287\n",
      "mcm: [[[6937    5]\n",
      "  [  16 1652]]\n",
      "\n",
      " [[8360    7]\n",
      "  [   6  237]]\n",
      "\n",
      " [[8384    7]\n",
      "  [   4  215]]\n",
      "\n",
      " [[8593    0]\n",
      "  [   0   17]]\n",
      "\n",
      " [[8593    1]\n",
      "  [   0   16]]\n",
      "\n",
      " [[2157    6]\n",
      "  [   0 6447]]]\n"
     ]
    },
    {
     "data": {
      "image/png": "[encoded data removed]",
      "text/plain": [
       "<Figure size 1500x1500 with 15 Axes>"
      ]
     },
     "metadata": {},
     "output_type": "display_data"
    }
   ],
   "source": [
    "import numpy as np\n",
    "\n",
    "y_pred = model_2.predict(X_test)\n",
    "model_results = calculate_results(y_test_padded, np.argmax(y_pred, axis=-1))\n",
    "\n",
    "# Print all keys except 'mcm'\n",
    "for key, value in model_results.items():\n",
    "        print(f\"{key}: {value}\")\n",
    "        \n",
    "plot_multilabel_confusion_matrix(model_results['mcm'])\n",
    "\n"
   ]
  },
  {
   "cell_type": "markdown",
   "metadata": {},
   "source": [
    "For \"B-TO\":\n",
    "    True Positives (TP): 453 (correctly identified arrival cities at the beginning of a chunk).\n",
    "    False Negatives (FN): 18 (arrival cities at the beginning of a chunk that were missed).\n",
    "    False Positives (FP): 27 (false alarms where the model incorrectly identified a city at the beginning of a chunk).\n",
    "    True Negatives (TN): Not applicable in this context.\n",
    "\n",
    "For \"B-FROM\":\n",
    "    True Positives (TP): 406 (correctly identified departure cities at the beginning of a chunk).\n",
    "    False Negatives (FN): 22 (departure cities at the beginning of a chunk that were missed).\n",
    "    False Positives (FP): 19 (false alarms where the model incorrectly identified a city at the beginning of a chunk).\n",
    "    True Negatives (TN): Not applicable in this context.\n",
    "\n",
    "    "
   ]
  },
  {
   "cell_type": "code",
   "execution_count": 131,
   "metadata": {},
   "outputs": [],
   "source": [
    "def make_prediction(model, sentences):\n",
    "    decoded_predictions = []\n",
    "\n",
    "    # make predictions\n",
    "    predictions = model.predict(sentences)\n",
    "\n",
    "    # mask padding and decode prediction\n",
    "    for i, prediction in enumerate(predictions):\n",
    "        actual_length = len(sentences[i].split())  # Length of the actual sentence\n",
    "        \n",
    "        predicted_tags = tf.argmax(prediction, axis=-1).numpy()[:actual_length]  # Consider only actual length\n",
    "        print(actual_length)\n",
    "        print((predicted_tags))\n",
    "        # Map predicted tags to their labels, ignoring padding\n",
    "        decoded_predictions.append([label_lookup.get_vocabulary()[tag] for tag in predicted_tags])\n",
    "\n",
    "    return decoded_predictions"
   ]
  },
  {
   "cell_type": "code",
   "execution_count": 57,
   "metadata": {},
   "outputs": [
    {
     "ename": "NameError",
     "evalue": "name 'make_prediction' is not defined",
     "output_type": "error",
     "traceback": [
      "\u001b[1;31m---------------------------------------------------------------------------\u001b[0m",
      "\u001b[1;31mNameError\u001b[0m                                 Traceback (most recent call last)",
      "Cell \u001b[1;32mIn[57], line 31\u001b[0m\n\u001b[0;32m     19\u001b[0m \u001b[38;5;66;03m# Scenario 3: Sentences with only an arrival city.\u001b[39;00m\n\u001b[0;32m     20\u001b[0m \n\u001b[0;32m     21\u001b[0m \u001b[38;5;66;03m# Scenario 4: Sentences with both a departure and an arrival city.\u001b[39;00m\n\u001b[0;32m     22\u001b[0m sentences_4 \u001b[38;5;241m=\u001b[39m [\n\u001b[0;32m     23\u001b[0m     \u001b[38;5;124m\"\u001b[39m\u001b[38;5;124mComment peut-on se rendre de Paris à Marseille rapidement\u001b[39m\u001b[38;5;124m\"\u001b[39m,\n\u001b[0;32m     24\u001b[0m     \u001b[38;5;124m\"\u001b[39m\u001b[38;5;124mQuel est le moyen de transport le plus pratique pour aller de Lyon à Bordeaux\u001b[39m\u001b[38;5;124m\"\u001b[39m,\n\u001b[1;32m   (...)\u001b[0m\n\u001b[0;32m     27\u001b[0m     \u001b[38;5;124m\"\u001b[39m\u001b[38;5;124mQuelle est la meilleure manière de voyager de Nantes à Montpellier\u001b[39m\u001b[38;5;124m\"\u001b[39m,\n\u001b[0;32m     28\u001b[0m ]\n\u001b[1;32m---> 31\u001b[0m predictions \u001b[38;5;241m=\u001b[39m make_prediction(model_2, sentences_4)\n\u001b[0;32m     34\u001b[0m \u001b[38;5;28;01mfor\u001b[39;00m sentence, prediction \u001b[38;5;129;01min\u001b[39;00m \u001b[38;5;28mzip\u001b[39m(sentences_4, predictions):\n\u001b[0;32m     35\u001b[0m     \u001b[38;5;28mprint\u001b[39m(sentence)\n",
      "\u001b[1;31mNameError\u001b[0m: name 'make_prediction' is not defined"
     ]
    }
   ],
   "source": [
    "# Scenario 1: Sentences with neither departure nor arrival.\n",
    "sentences_1 = [\n",
    "    \"Je veux partir nulle part\",\n",
    "    \"OK\",\n",
    "    \"Je veux une salade\",\n",
    "    \"Il va skier a la station de ski\",\n",
    "    \"Paul nous vends des chips\",\n",
    "]\n",
    "\n",
    "# Scenario 2: Sentences with only a departure city.\n",
    "sentences_2 = [\n",
    "    \"Comment part-on de Lyon\",\n",
    "    \"Marseille\",\n",
    "    \"Comment je vais de Paris a\",\n",
    "    \"Je veux partir de Grenoble\",\n",
    "    \"Depuis Tours\",\n",
    "]\n",
    "\n",
    "# Scenario 3: Sentences with only an arrival city.\n",
    "\n",
    "# Scenario 4: Sentences with both a departure and an arrival city.\n",
    "sentences_4 = [\n",
    "    \"Comment peut-on se rendre de Paris à Marseille rapidement\",\n",
    "    \"Quel est le moyen de transport le plus pratique pour aller de Lyon à Bordeaux\",\n",
    "    \"Y a-t-il un train direct de Nice à Strasbourg\",\n",
    "    \"Pouvez-vous me dire comment rejoindre Toulouse depuis Lille\",\n",
    "    \"Quelle est la meilleure manière de voyager de Nantes à Montpellier\",\n",
    "]\n",
    "\n",
    "\n",
    "predictions = make_prediction(model_2, sentences_4)\n",
    "\n",
    "\n",
    "for sentence, prediction in zip(sentences_4, predictions):\n",
    "    print(sentence)\n",
    "    print(prediction)"
   ]
  },
  {
   "cell_type": "code",
   "execution_count": 133,
   "metadata": {},
   "outputs": [
    {
     "data": {
      "text/plain": [
       "<tf.Tensor: shape=(1, 30), dtype=int64, numpy=\n",
       "array([[ 19,   1,  95,  16,   3, 145,   2, 116,   1,   0,   0,   0,   0,\n",
       "          0,   0,   0,   0,   0,   0,   0,   0,   0,   0,   0,   0,   0,\n",
       "          0,   0,   0,   0]], dtype=int64)>"
      ]
     },
     "execution_count": 133,
     "metadata": {},
     "output_type": "execute_result"
    }
   ],
   "source": [
    "text_vectorizer(['Comment peut-on se rendre de Paris à Marseille rapidement'])"
   ]
  },
  {
   "cell_type": "code",
   "execution_count": null,
   "metadata": {},
   "outputs": [],
   "source": []
  }
 ],
 "metadata": {
  "kernelspec": {
   "display_name": "AI",
   "language": "python",
   "name": "python3"
  },
  "language_info": {
   "codemirror_mode": {
    "name": "ipython",
    "version": 3
   },
   "file_extension": ".py",
   "mimetype": "text/x-python",
   "name": "python",
   "nbconvert_exporter": "python",
   "pygments_lexer": "ipython3",
   "version": "3.11.5"
  }
 },
 "nbformat": 4,
 "nbformat_minor": 2
}
